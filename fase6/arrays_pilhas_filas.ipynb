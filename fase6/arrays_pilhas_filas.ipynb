{
 "cells": [
  {
   "cell_type": "markdown",
   "id": "a6880d7e",
   "metadata": {},
   "source": [
    "# Arrays, Pilhas, Filas"
   ]
  },
  {
   "cell_type": "markdown",
   "id": "cf449aca",
   "metadata": {},
   "source": [
    "Estruturas de dados básicas para organizar informações "
   ]
  },
  {
   "cell_type": "markdown",
   "id": "197d6a77",
   "metadata": {},
   "source": [
    "## Arays(Lista em Python)\n",
    "coleção ordenada e mutável."
   ]
  },
  {
   "cell_type": "code",
   "execution_count": null,
   "id": "d295cee8",
   "metadata": {},
   "outputs": [],
   "source": [
    "# Listas Python funcionam como arrays dinâmicos\n",
    "my_array = [10, 20, 30, 40, 50]\n",
    "print('---Arrays (Listas Python)---')\n",
    "print(f'Array inicial: {my_array}')\n",
    "\n",
    "# Acessando por índice \n",
    "print(f'Elemento no índice 2: {my_array[2]}')"
   ]
  }
 ],
 "metadata": {
  "kernelspec": {
   "display_name": "base",
   "language": "python",
   "name": "python3"
  },
  "language_info": {
   "name": "python",
   "version": "3.9.13"
  }
 },
 "nbformat": 4,
 "nbformat_minor": 5
}
