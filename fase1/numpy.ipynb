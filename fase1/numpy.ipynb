{
 "cells": [
  {
   "cell_type": "markdown",
   "id": "f036e9dc",
   "metadata": {},
   "source": [
    "# NumPy (Numerical Python)\n",
    "\n",
    "Biblioteca fundamental para computação numérica em Python. O objeto principal é o __ndarray__ (n-dimensional array). \n",
    "\n",
    "## Importação :"
   ]
  },
  {
   "cell_type": "code",
   "execution_count": 90,
   "id": "56228668",
   "metadata": {},
   "outputs": [
    {
     "name": "stdout",
     "output_type": "stream",
     "text": [
      "Numpy version: 1.21.5\n"
     ]
    }
   ],
   "source": [
    "import numpy as np\n",
    "print(f'Numpy version: {np.__version__}')"
   ]
  },
  {
   "cell_type": "markdown",
   "id": "1688e248",
   "metadata": {},
   "source": [
    "## Criação de Arrays:\n",
    "### A partir de listas Python:"
   ]
  },
  {
   "cell_type": "code",
   "execution_count": 91,
   "id": "8cd2d722",
   "metadata": {},
   "outputs": [
    {
     "name": "stdout",
     "output_type": "stream",
     "text": [
      "Array a partir de lista: [1 2 3 4 5]\n",
      "Tipo do array: int64\n",
      "\n",
      "Array de 2 dimensões:\n",
      "[[1 2 3]\n",
      " [4 5 6]]\n",
      "Formato do array de 2 dimensões: [[1 2 3]\n",
      " [4 5 6]]\n",
      "Número de dimensões:2\n"
     ]
    }
   ],
   "source": [
    "lista_py = [1, 2, 3, 4, 5]\n",
    "array_np = np.array(lista_py)\n",
    "print(f'Array a partir de lista: {array_np}')\n",
    "print((f'Tipo do array: {array_np.dtype}'))\n",
    "\n",
    "lista_2d = [[1, 2, 3], [4, 5, 6]]\n",
    "array_2d = np.array(lista_2d)\n",
    "print(f'\\nArray de 2 dimensões:\\n{array_2d}')\n",
    "print(f'Formato do array de 2 dimensões: {array_2d}') # (linhas, colunas)\n",
    "print(f'Número de dimensões:{array_2d.ndim}')\n"
   ]
  },
  {
   "cell_type": "markdown",
   "id": "37212a26",
   "metadata": {},
   "source": [
    "### Arrays Especiais "
   ]
  },
  {
   "cell_type": "code",
   "execution_count": 92,
   "id": "9ee3aa86",
   "metadata": {},
   "outputs": [
    {
     "name": "stdout",
     "output_type": "stream",
     "text": [
      "\n",
      "Array de Zeros:\n",
      "[[0. 0. 0.]\n",
      " [0. 0. 0.]]\n",
      "\n",
      "Array de Uns(inteiros):\n",
      "[[1 1]\n",
      " [1 1]\n",
      " [1 1]]\n",
      "\n",
      "Array Preenchido com 7.5:\n",
      "[[7.5 7.5 7.5 7.5]\n",
      " [7.5 7.5 7.5 7.5]]\n",
      "\n",
      "Matriz Identidade 3x3:\n",
      "[[1. 0. 0.]\n",
      " [0. 1. 0.]\n",
      " [0. 0. 1.]]\n"
     ]
    }
   ],
   "source": [
    "# Array de zeros\n",
    "zeros_array = np.zeros((2,3)) # Formato (2 linhas, 3 colunas)\n",
    "print(f'\\nArray de Zeros:\\n{zeros_array}')\n",
    "\n",
    "# Array de uns\n",
    "ones_array = np.ones((3, 2), dtype=int)\n",
    "print(f'\\nArray de Uns(inteiros):\\n{ones_array}')\n",
    "\n",
    "# Array com um valor específico\n",
    "full_array = np.full((2, 4), 7.5)\n",
    "print(f'\\nArray Preenchido com 7.5:\\n{full_array}')\n",
    "\n",
    "# Array identidade (quadrado)\n",
    "identity_matrix = np.eye(3)\n",
    "print(f'\\nMatriz Identidade 3x3:\\n{identity_matrix}')"
   ]
  },
  {
   "cell_type": "code",
   "execution_count": 93,
   "id": "dfb398ea",
   "metadata": {},
   "outputs": [
    {
     "name": "stdout",
     "output_type": "stream",
     "text": [
      "\n",
      "Array com arange: [0 2 4 6 8]\n",
      "\n",
      "Array com linspace(0, 1, 5): [0.   0.25 0.5  0.75 1.  ]\n"
     ]
    }
   ],
   "source": [
    "# Array com sequência (similar a range)\n",
    "arange_array = np.arange(0, 10, 2) # Ínicio, Parada(exclusiva), Passo\n",
    "print(f'\\nArray com arange: {arange_array}')\n",
    "\n",
    "# Array com valores espaçados linearmente\n",
    "linspace_array = np.linspace(0, 1, 5) # Ínicio, Parada(exclusiva), número de valores entre ínicio e fim(inclusive os dois) \n",
    "print(f'\\nArray com linspace(0, 1, 5): {linspace_array}')\n"
   ]
  },
  {
   "cell_type": "code",
   "execution_count": 94,
   "id": "500714b4",
   "metadata": {},
   "outputs": [
    {
     "name": "stdout",
     "output_type": "stream",
     "text": [
      "\n",
      "Array Aleatório [0, 1):\n",
      "[[0.92944011 0.511041   0.35788253]\n",
      " [0.53125368 0.76444059 0.43545912]]\n",
      "\n",
      "Array Aleatório Normal Padrão:\n",
      "[[-2.26822398  0.82786078]\n",
      " [-1.21004215  0.45707386]\n",
      " [ 0.56842402 -0.89948607]]\n",
      "\n",
      "Array com inteiros aleatórios:\n",
      "[[85 80  7 50  8]\n",
      " [53 20 82 19 84]]\n"
     ]
    }
   ],
   "source": [
    "# Array aleatório [0, 1)\n",
    "random_array = np.random.rand(2, 3)\n",
    "print(f'\\nArray Aleatório [0, 1):\\n{random_array}')\n",
    "\n",
    "# Array com valores aleatórios (distribuição normal padrão)\n",
    "randn_array = np.random.randn(3, 2)\n",
    "print(f'\\nArray Aleatório Normal Padrão:\\n{randn_array}')\n",
    "\n",
    "# Array com inteiros aleatórios\n",
    "randint_array = np.random.randint(1, 100, size=(2, 5)) # Formato \n",
    "print(f'\\nArray com inteiros aleatórios:\\n{randint_array}')"
   ]
  },
  {
   "cell_type": "markdown",
   "id": "5af1ad84",
   "metadata": {},
   "source": [
    "## Indexação e Fatiamento(Slicing)\n",
    "Similar a listas, mas com mais dimensões."
   ]
  },
  {
   "cell_type": "code",
   "execution_count": 95,
   "id": "bf8271e9",
   "metadata": {},
   "outputs": [
    {
     "name": "stdout",
     "output_type": "stream",
     "text": [
      "\n",
      "Array original: = [10 11 12 13 14 15 16 17 18 19]\n",
      "Primeiro elemento: 10\n",
      "Último elemento: 10\n",
      "Do índice 2 ao 5 (exclusivo): [12 13 14]\n",
      "Do ínico ao índice 4 (exclusivo): [10 11 12 13]\n",
      "Do índice 6 ao fim: [16 17 18 19]\n",
      "Com passo 2: [10 12 14 16 18]\n"
     ]
    }
   ],
   "source": [
    "number = np.arange(10, 20)\n",
    "print(f'\\nArray original: = {number}')\n",
    "\n",
    "# Acessando elementos \n",
    "print(f'Primeiro elemento: {number[0]}')\n",
    "print(f'Último elemento: {number[0]}')\n",
    "\n",
    "# Fatiamento\n",
    "print(f'Do índice 2 ao 5 (exclusivo): {number[2:5]}')\n",
    "print(f'Do ínico ao índice 4 (exclusivo): {number[:4]}')\n",
    "print(f'Do índice 6 ao fim: {number[6:]}')\n",
    "print(f'Com passo 2: {number[::2]}')"
   ]
  },
  {
   "cell_type": "code",
   "execution_count": 96,
   "id": "a8929190",
   "metadata": {},
   "outputs": [
    {
     "name": "stdout",
     "output_type": "stream",
     "text": [
      "\n",
      "Arrray 2D Original:\n",
      "[[1 2 3]\n",
      " [4 5 6]\n",
      " [7 8 9]]\n",
      "Elemento numbers[1, 2]: 6\n",
      "Primeira linha numbers[0, :]: [1 2 3]\n",
      "Segunda coluna numbers[:, 1]:[2 5 8]\n"
     ]
    }
   ],
   "source": [
    "# Fatiamento em arrays de 2 dimensões\n",
    "numbers = np.array([[1, 2, 3], [4, 5, 6], [7, 8, 9]])\n",
    "print(f'\\nArrray 2D Original:\\n{numbers}')\n",
    "\n",
    "# Elemento linha 1, coluna 2\n",
    "print(f'Elemento numbers[1, 2]: {numbers[1, 2]}') # ou numbers[1][2]\n",
    "\n",
    "# Primeira linha inteira\n",
    "print(f'Primeira linha numbers[0, :]: {numbers[0, :]}') # ou numbers[0] \n",
    "\n",
    "# Segunda coluna inteira\n",
    "print(f'Segunda coluna numbers[:, 1]:{numbers[:, 1]}')\n"
   ]
  },
  {
   "cell_type": "code",
   "execution_count": null,
   "id": "855fb3f2",
   "metadata": {},
   "outputs": [
    {
     "name": "stdout",
     "output_type": "stream",
     "text": [
      "Sub-array numbers[0:2, 1:3]: [[2 3]\n",
      " [5 6]]\n",
      "Sub-array modificado:\n",
      "[[99  3]\n",
      " [ 5  6]]\n",
      "Sub-array modificado APÓS modificar a fatia\n",
      "\n",
      "Cópia modificada:\n",
      "[[111   3]\n",
      " [  5   6]]\n",
      "Array number original NÃO foi afetado pela cópia:\n",
      "[[ 1 99  3]\n",
      " [ 4  5  6]\n",
      " [ 7  8  9]]\n"
     ]
    }
   ],
   "source": [
    "# Sub-array (linhas 0 e 1, colunas 1 e 2)\n",
    "sub_array = numbers[0:2, 1:3]\n",
    "print(f'Sub-array numbers[0:2, 1:3]: {sub_array}')\n",
    "\n",
    "# IMPORTANTE: Fatias são \"views\" (visões) do array original.\n",
    "# Modificar a fatia modifica o original!\n",
    "sub_array[0, 0] = 99\n",
    "print(f'Sub-array modificado:\\n{sub_array}')\n",
    "print(f'Sub-array modificado APÓS modificar a fatia')\n",
    "\n",
    "# Para criar uma cópia independente, use .copy()\n",
    "sub_array_copy = numbers[0:2, 1:3].copy()\n",
    "sub_array_copy[0, 0] = 111\n",
    "print(f'\\nCópia modificada:\\n{sub_array_copy}')\n",
    "print(f'Array numbers original NÃO foi afetado pela cópia:\\n{numbers}')\n"
   ]
  },
  {
   "cell_type": "markdown",
   "id": "b0dc5a39",
   "metadata": {},
   "source": [
    "## **Indexação Booleana**:\n",
    "Selecionar elementos com base em condições."
   ]
  }
 ],
 "metadata": {
  "kernelspec": {
   "display_name": "base",
   "language": "python",
   "name": "python3"
  },
  "language_info": {
   "codemirror_mode": {
    "name": "ipython",
    "version": 3
   },
   "file_extension": ".py",
   "mimetype": "text/x-python",
   "name": "python",
   "nbconvert_exporter": "python",
   "pygments_lexer": "ipython3",
   "version": "3.9.13"
  }
 },
 "nbformat": 4,
 "nbformat_minor": 5
}
