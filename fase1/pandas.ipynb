{
 "cells": [
  {
   "cell_type": "markdown",
   "id": "c660aee2",
   "metadata": {},
   "source": [
    "# Pandas\n",
    "Biblioteca essencial para a manipulação e análise de dados tabulares. \n",
    "Estruturas principais: _Series_ (1D) e _DataFrame_ (2D)"
   ]
  },
  {
   "cell_type": "markdown",
   "id": "1d4c4075",
   "metadata": {},
   "source": [
    "## Importação"
   ]
  },
  {
   "cell_type": "code",
   "execution_count": 1,
   "id": "cdb20146",
   "metadata": {},
   "outputs": [
    {
     "name": "stdout",
     "output_type": "stream",
     "text": [
      "Panda version: 1.4.4\n"
     ]
    }
   ],
   "source": [
    "import pandas as pd\n",
    "import numpy as np # Geralmente usado junto\n",
    "print(f'Panda version: {pd.__version__}')"
   ]
  },
  {
   "cell_type": "markdown",
   "id": "95a4edd6",
   "metadata": {},
   "source": [
    "## Criação de Series\n",
    "Array 1D rotulado"
   ]
  },
  {
   "cell_type": "code",
   "execution_count": 2,
   "id": "730ab5ae",
   "metadata": {},
   "outputs": [
    {
     "name": "stdout",
     "output_type": "stream",
     "text": [
      "Série criada:\n",
      "a    10\n",
      "b    20\n",
      "c    30\n",
      "d    40\n",
      "dtype: int64\n",
      "Valores da série: [10 20 30 40]\n",
      "Índice da série: Index(['a', 'b', 'c', 'd'], dtype='object')\n",
      "\n",
      "Série a partir de dict (Rendimento mensal domiciliar per capita em reais):\n",
      "SP    2662\n",
      "RJ    2490\n",
      "MG    2001\n",
      "ES    2111\n",
      "dtype: int64\n"
     ]
    }
   ],
   "source": [
    "# A partir de lista\n",
    "dados_serie = [10, 20, 30, 40]\n",
    "indices_serie = ['a', 'b', 'c', 'd']\n",
    "serie = pd.Series(data=dados_serie, index=indices_serie)\n",
    "print(f\"Série criada:\\n{serie}\")\n",
    "print(f'Valores da série: {serie.values}')\n",
    "print(f'Índice da série: {serie.index}')\n",
    "\n",
    "# A partir de dicionário (chaves viram índices)\n",
    "dict_serie = {'SP' : 2_662, 'RJ': 2_490, 'MG': 2_001, 'ES': 2_111}\n",
    "serie_dict = pd.Series(dict_serie)\n",
    "print(f'\\nSérie a partir de dict (Rendimento mensal domiciliar per capita em reais):\\n{serie_dict}')"
   ]
  },
  {
   "cell_type": "markdown",
   "id": "dc485657",
   "metadata": {},
   "source": [
    "## Criação de DataFrames\n",
    "Estruturas 2D tipo tabela"
   ]
  },
  {
   "cell_type": "code",
   "execution_count": 3,
   "id": "21047d53",
   "metadata": {},
   "outputs": [
    {
     "name": "stdout",
     "output_type": "stream",
     "text": [
      "DataFrame criado:\n",
      "  Estado  População   Area_km2\n",
      "0     SP   45973194  248219485\n",
      "1     RJ   17219679   43750425\n",
      "2     MG   21322691  586513984\n",
      "3     ES    4102129   46074448\n",
      "\n",
      "DataFrame com índice do código IBGE:\n",
      "   Estado  População   Area_km2\n",
      "35     SP   45973194  248219485\n",
      "33     RJ   17219679   43750425\n",
      "31     MG   21322691  586513984\n",
      "32     ES    4102129   46074448\n",
      "\n",
      "DataFrame a partir de lista de dicts:\n",
      "        Nome  Idade         Cidade:\n",
      "0      Pedro     27         Itajubá\n",
      "1  Joãozinho     13       São Paulo\n",
      "2      Alice     25  Belo Horizonte\n",
      "\n",
      "DataFrame a partir de NumPy array:\n",
      "   Coluna A  Coluna B  Coluna C\n",
      "0        28        72         4\n",
      "1        70        15        85\n",
      "2        22        91        75\n",
      "3        79        84        51\n"
     ]
    }
   ],
   "source": [
    "# A partir de dicionário de listas (chaves viram colunas)\n",
    "dados_df = {\n",
    "    'Estado': ['SP', 'RJ', 'MG', 'ES'],\n",
    "    'População': [45_973_194, 17_219_679, 21_322_691, 4_102_129],\n",
    "    'Area_km2': [248_219_485, 43_750_425, 586_513_984, 46_074_448]\n",
    "}\n",
    "\n",
    "df = pd.DataFrame(dados_df)\n",
    "print(f'DataFrame criado:\\n{df}')\n",
    "\n",
    "# Especificando índice (Códigos IBGE)\n",
    "df_com_indice = pd.DataFrame(dados_df, index=['35', '33', '31', '32'])\n",
    "print(f'\\nDataFrame com índice do código IBGE:\\n{df_com_indice}')\n",
    "\n",
    "# A partir de lista de dicionários\n",
    "lista_dicts = [\n",
    "    {'Nome': 'Pedro', 'Idade': 27, 'Cidade:': 'Itajubá'},\n",
    "    {'Nome': 'Joãozinho', 'Idade': 13, 'Cidade:': 'São Paulo'},\n",
    "    {'Nome': 'Alice' , 'Idade': 25, 'Cidade:': 'Belo Horizonte'}\n",
    "]\n",
    "\n",
    "df_lista_dicts = pd.DataFrame(lista_dicts)\n",
    "print(f'\\nDataFrame a partir de lista de dicts:\\n{df_lista_dicts}')\n",
    "\n",
    "# A partir de array NumPy\n",
    "array_np = np.random.randint(0, 100, size=(4, 3))\n",
    "colunas = ['Coluna A', 'Coluna B', 'Coluna C']\n",
    "df_numpy = pd.DataFrame(array_np, columns=colunas)\n",
    "print(f'\\nDataFrame a partir de NumPy array:\\n{df_numpy}')"
   ]
  },
  {
   "cell_type": "markdown",
   "id": "57f03088",
   "metadata": {},
   "source": [
    "## Leitura e Escrita de Arquivos (Exemplo CSV)"
   ]
  },
  {
   "cell_type": "code",
   "execution_count": 4,
   "id": "47ef8fee",
   "metadata": {},
   "outputs": [
    {
     "name": "stdout",
     "output_type": "stream",
     "text": [
      "\n",
      "Arquivo exemplo.csv salvo.\n",
      "\n",
      "DataFrame lido do CSV:\n",
      "   col1 col2\n",
      "0     1    A\n",
      "1     2    B\n",
      "2     3    C\n"
     ]
    }
   ],
   "source": [
    "# Criando um CSV de exemplo\n",
    "df_para_csv = pd.DataFrame({\n",
    "    'col1': [1, 2, 3],\n",
    "    'col2': ['A', 'B', 'C']\n",
    "})\n",
    "df_para_csv.to_csv('/home/lopes/Projects/roadmap-ciencia-dados-study-journey/fase1/exemplo.csv', index=False)\n",
    "print('\\nArquivo exemplo.csv salvo.')\n",
    "\n",
    "# Lendo o CSV\n",
    "df_lido = pd.read_csv('/home/lopes/Projects/roadmap-ciencia-dados-study-journey/fase1/exemplo.csv')\n",
    "print(f'\\nDataFrame lido do CSV:\\n{df_lido}')\n",
    "\n",
    "# Outros formatos comuns: p.read_excel(), df.to_excel, pd.read_json()"
   ]
  },
  {
   "cell_type": "markdown",
   "id": "052ffc76",
   "metadata": {},
   "source": [
    "## Inspeção Básica"
   ]
  },
  {
   "cell_type": "code",
   "execution_count": 5,
   "id": "0e1aa916",
   "metadata": {},
   "outputs": [
    {
     "name": "stdout",
     "output_type": "stream",
     "text": [
      "Primeiras 2 linhas (.head(2)):\n",
      "  Estado  População   Area_km2\n",
      "0     SP   45973194  248219485\n",
      "1     RJ   17219679   43750425\n",
      "\n",
      "Últimas 2 linhas (.tail(2)):\n",
      "  Estado  População   Area_km2\n",
      "2     MG   21322691  586513984\n",
      "3     ES    4102129   46074448\n",
      "\n",
      "Informações Gerais(.info()):\n",
      "<class 'pandas.core.frame.DataFrame'>\n",
      "RangeIndex: 4 entries, 0 to 3\n",
      "Data columns (total 3 columns):\n",
      " #   Column     Non-Null Count  Dtype \n",
      "---  ------     --------------  ----- \n",
      " 0   Estado     4 non-null      object\n",
      " 1   População  4 non-null      int64 \n",
      " 2   Area_km2   4 non-null      int64 \n",
      "dtypes: int64(2), object(1)\n",
      "memory usage: 224.0+ bytes\n",
      "\n",
      "Estatísticas descritivas (.describe()):\n",
      "          População      Area_km2\n",
      "count  4.000000e+00  4.000000e+00\n",
      "mean   2.215442e+07  2.311396e+08\n",
      "std    1.749536e+07  2.555690e+08\n",
      "min    4.102129e+06  4.375042e+07\n",
      "25%    1.394029e+07  4.549344e+07\n",
      "50%    1.927118e+07  1.471470e+08\n",
      "75%    2.748532e+07  3.327931e+08\n",
      "max    4.597319e+07  5.865140e+08\n",
      "\n",
      "Formato (linhas, colunas): (4, 3)\n",
      "\n",
      "Colunas: Index(['Estado', 'População', 'Area_km2'], dtype='object')\n",
      "\n",
      "Índice: RangeIndex(start=0, stop=4, step=1)\n",
      "\n",
      "Tipos de dados por coluna:\n",
      "Estado       object\n",
      "População     int64\n",
      "Area_km2      int64\n",
      "dtype: object\n"
     ]
    }
   ],
   "source": [
    "# Usando o df criado anteriormmente\n",
    "print(f'Primeiras 2 linhas (.head(2)):\\n{df.head(2)}')\n",
    "print(f'\\nÚltimas 2 linhas (.tail(2)):\\n{df.tail(2)}')\n",
    "print('\\nInformações Gerais(.info()):')\n",
    "df.info()\n",
    "print(f'\\nEstatísticas descritivas (.describe()):\\n{df.describe()}')\n",
    "print(f'\\nFormato (linhas, colunas): {df.shape}')\n",
    "print(f'\\nColunas: {df.columns}')\n",
    "print(f'\\nÍndice: {df.index}')\n",
    "print(f'\\nTipos de dados por coluna:\\n{df.dtypes}')"
   ]
  },
  {
   "cell_type": "markdown",
   "id": "dc91d0cb",
   "metadata": {},
   "source": [
    "## Seleção e Indexação "
   ]
  },
  {
   "cell_type": "code",
   "execution_count": 6,
   "id": "30d3900c",
   "metadata": {},
   "outputs": [
    {
     "name": "stdout",
     "output_type": "stream",
     "text": [
      "Index(['Estado', 'População', 'Area_km2'], dtype='object')\n",
      "\n",
      "Coluna População (Series):\n",
      "0    45973194\n",
      "1    17219679\n",
      "2    21322691\n",
      "3     4102129\n",
      "Name: População, dtype: int64\n",
      "Tipo: <class 'pandas.core.series.Series'>\n",
      "hello world!\n"
     ]
    }
   ],
   "source": [
    "# Selecionando uma coluna (retorna uma Series)\n",
    "print(df.columns)\n",
    "\n",
    "populacao_serie = df['População']\n",
    "print(f'\\nColuna População (Series):\\n{populacao_serie}')\n",
    "print(f'Tipo: {type(populacao_serie)}')\n",
    "\n",
    "# Selecionando múltiplas\n",
    "print('hello world!')"
   ]
  }
 ],
 "metadata": {
  "kernelspec": {
   "display_name": "base",
   "language": "python",
   "name": "python3"
  },
  "language_info": {
   "codemirror_mode": {
    "name": "ipython",
    "version": 3
   },
   "file_extension": ".py",
   "mimetype": "text/x-python",
   "name": "python",
   "nbconvert_exporter": "python",
   "pygments_lexer": "ipython3",
   "version": "3.9.13"
  }
 },
 "nbformat": 4,
 "nbformat_minor": 5
}
