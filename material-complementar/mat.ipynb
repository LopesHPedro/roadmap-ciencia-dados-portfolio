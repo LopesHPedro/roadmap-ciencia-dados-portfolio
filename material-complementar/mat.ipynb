{
 "cells": [
  {
   "cell_type": "markdown",
   "id": "83137023",
   "metadata": {},
   "source": [
    "## Matemática para Data Science: Foco Prático"
   ]
  },
  {
   "cell_type": "code",
   "execution_count": 120,
   "id": "96401d56",
   "metadata": {},
   "outputs": [],
   "source": [
    "import pandas as pd\n",
    "import matplotlib.pyplot as plt\n",
    "import seaborn as sns\n",
    "import numpy as np\n"
   ]
  },
  {
   "cell_type": "markdown",
   "id": "129be67a",
   "metadata": {},
   "source": [
    "### Capítulo 1 - Introdução a Análise de Dados\n",
    "_Dados: Informações coletadas sobre algo._ Podem ser classificados de acordo com suas varíaveis.\n",
    "\n",
    "Podem ser **Qualitativas**(Qualiadedes ou categorias) ou **Quantitativas**(Quantidades númericas)\n",
    "- Qualitativa Nominal: _Categorias sem ordem_ \n",
    "- Qualitativa Ordinal: _Categorias com ordem_\n",
    "- Quantitativa Discreta: _Valores contáveis, geralmente inteiros_\n",
    "- Quantitativa Contínua: _Valores em um intervalo, podem ter casas decimais_\n",
    "\n",
    "**População**: Todo mundo que você poderia estudar.\n",
    "\n",
    "**Amostra**: Um pedaço menor e representativo que você **de fato estuda**."
   ]
  },
  {
   "cell_type": "code",
   "execution_count": null,
   "id": "6a537b3a",
   "metadata": {},
   "outputs": [
    {
     "name": "stdout",
     "output_type": "stream",
     "text": [
      "Qualitativa Nominal:\n",
      "\t- Altura(em cm) dos jogadores de um time de basquete;\n",
      "\t- Salário mensal(em R$) dos funcionários de uma empresa;\n",
      "\t- O tempo(em minutos) para completar uma tarefa.\n",
      "Qualitativa Ordinal:\n",
      "\t- Altura(em cm) dos jogadores de um time de basquete;\n",
      "\t- Salário mensal(em R$) dos funcionários de uma empresa;\n",
      "\t- O tempo(em minutos) para completar uma tarefa.\n",
      "Quantitativa Discreta:\n",
      "\t- Altura(em cm) dos jogadores de um time de basquete;\n",
      "\t- Salário mensal(em R$) dos funcionários de uma empresa;\n",
      "\t- O tempo(em minutos) para completar uma tarefa.\n",
      "Quantitativa Contínua:\n",
      "\t- Altura(em cm) dos jogadores de um time de basquete;\n",
      "\t- Salário mensal(em R$) dos funcionários de uma empresa;\n",
      "\t- O tempo(em minutos) para completar uma tarefa.\n"
     ]
    }
   ],
   "source": [
    "# Exemplos\n",
    "qualitativa_nominal = ['Cor preferida de um grupo de pessoas;', \n",
    "'Tipo sanguíneo(A, B, AB, O);', 'Marca de Celular mais utilizada.']\n",
    "qualitativa_ordinal = ['Nível de satisfação com um serviço(Insatisfeito, Neutro, Satisfeito);',\n",
    " 'Classificação de filmes(Livre, 10 anos, 14 anos, 18 anos);', \n",
    " 'Grau de escolaridade(Fundamental, Médio, Superior, Pós-Graduação).']\n",
    "quantitativa_discreta = ['Número de irmãos de cada aluno em uma sala;',\n",
    "'Número de carros vendidos por uma concessionária em um mês;',\n",
    "'Quantidade de livros em uma estante.']\n",
    "quantitativa_continua = ['Altura(em cm) dos jogadores de um time de basquete;',\n",
    "'Salário mensal(em R$) dos funcionários de uma empresa;',\n",
    "'O tempo(em minutos) para completar uma tarefa.']\n",
    "\n",
    "tipos_variaveis = [\n",
    "    ('Qualitativa Nominal', qualitativa_nominal),\n",
    "    ('Qualitativa Ordinal', qualitativa_ordinal),\n",
    "    ('Quantitativa Discreta', quantitativa_discreta),\n",
    "    ('Quantitativa Contínua', quantitativa_continua),\n",
    "]\n",
    "\n",
    "for nome, tipos in tipos_variaveis:\n",
    "    print(nome +':')\n",
    "    for exemplo in tipo:\n",
    "        print('\\t-', exemplo)\n",
    "\n"
   ]
  },
  {
   "cell_type": "markdown",
   "id": "1f0ad6b3",
   "metadata": {},
   "source": [
    "### Capítulo 2 - Medidas de Tendência Central\n",
    "Econtrar um valor típico ou central que repesente um conjunto de dados."
   ]
  },
  {
   "cell_type": "markdown",
   "id": "69884860",
   "metadata": {},
   "source": [
    "#### Média Aritmética\n",
    "Soma de todos valores dividida pelo número total de valores.\n"
   ]
  },
  {
   "cell_type": "code",
   "execution_count": null,
   "id": "5b6d34e3",
   "metadata": {},
   "outputs": [],
   "source": []
  },
  {
   "cell_type": "markdown",
   "id": "8bbfeea2",
   "metadata": {},
   "source": [
    "#### Mediana\n"
   ]
  },
  {
   "cell_type": "code",
   "execution_count": null,
   "id": "684a04b6",
   "metadata": {},
   "outputs": [],
   "source": []
  },
  {
   "cell_type": "markdown",
   "id": "69b2c07c",
   "metadata": {},
   "source": [
    "#### Moda\n"
   ]
  },
  {
   "cell_type": "markdown",
   "id": "8c04a20d",
   "metadata": {},
   "source": [
    "### Capítulo 3 - Medidas de Dispersão"
   ]
  },
  {
   "cell_type": "code",
   "execution_count": null,
   "id": "33188ee2",
   "metadata": {},
   "outputs": [],
   "source": []
  },
  {
   "cell_type": "markdown",
   "id": "df1ea9e5",
   "metadata": {},
   "source": [
    "### Capítulo 4- Visualização de Dados Descritivos"
   ]
  },
  {
   "cell_type": "code",
   "execution_count": null,
   "id": "e63519aa",
   "metadata": {},
   "outputs": [],
   "source": []
  },
  {
   "cell_type": "code",
   "execution_count": 122,
   "id": "d810c902",
   "metadata": {},
   "outputs": [
    {
     "data": {
      "image/png": "[encoded data removed]",
      "text/plain": [
       "<Figure size 640x480 with 1 Axes>"
      ]
     },
     "metadata": {},
     "output_type": "display_data"
    }
   ],
   "source": [
    "# 1.1 Histograma\n",
    "\n",
    "idades = 10 * [20, 20, 30, 30, 30,40, 40, 50] + 5 * [20,30, 50, 60]\n",
    "\n",
    "faixas = [20, 30, 40, 50, 60, 70]\n",
    "labels = ['20-30', '30-40', '40-50', '50-60', '60-70']\n",
    "\n",
    "categories = pd.cut(idades,bins=faixas, labels=labels, right=False)\n",
    "\n",
    "sns.histplot(x=categories, palette='pastel')\n",
    "plt.title('Distribuição das idades de 100 participantes em uma maratona')\n",
    "plt.xlabel('Idade (anos)')\n",
    "plt.ylabel('Frequência')\n",
    "plt.show()"
   ]
  },
  {
   "cell_type": "markdown",
   "id": "4c56bbb1",
   "metadata": {},
   "source": [
    "- A faixa com maior número de participantes é de 30-40 anos\n",
    "- A distribuição das idades é assimétrica a direita\n",
    "- Estimaria que a idade média e mediana ficaria no intervalo de 30-40 anos\n",
    "- Sim, existem outliers tais como participantes de 60-70 anos"
   ]
  },
  {
   "cell_type": "code",
   "execution_count": 123,
   "id": "9b2900cc",
   "metadata": {},
   "outputs": [
    {
     "data": {
      "image/png": "[encoded data removed]",
      "text/plain": [
       "<Figure size 640x480 with 1 Axes>"
      ]
     },
     "metadata": {},
     "output_type": "display_data"
    },
    {
     "name": "stdout",
     "output_type": "stream",
     "text": [
      "[[ 0 10 20 30 40]]\n"
     ]
    }
   ],
   "source": [
    "# 1.2 Box Plot\n",
    "\n",
    "\n",
    "turmaA = [50, 60, 70, 80, 90] # Mín=50, Q1=60, Mediana=70, Q3=80, Máx=90\n",
    "turmaB = [40, 55, 75, 90, 100] # Mín=40, Q1=55, Mediana=75, Q3=90, Máx=100\n",
    "\n",
    "plt.boxplot([turmaA, turmaB], labels=['Turma A', 'Turma B'])\n",
    "\n",
    "plt.title('Comparativo de notas das Turmas')\n",
    "plt.grid(True)\n",
    "plt.show()\n",
    "\n",
    "IQR_turmaA = 80 - 60\n",
    "IQR_turmaB = 90 - 55\n",
    "\n",
    "amplitude_total_turmaA = np.mat(turmaA) - np.min(turmaA)\n",
    "print(amplitude_total_turmaA)\n"
   ]
  },
  {
   "cell_type": "markdown",
   "id": "69ddd86e",
   "metadata": {},
   "source": [
    "- A turma com maior mediana é a Turma B\n",
    "- A distribuição da\n",
    "- Estimaria que a idade média e mediana ficaria no intervalo de 30-40 anos\n",
    "- Sim, existem outliers tais como participantes de 60-70 anos"
   ]
  }
 ],
 "metadata": {
  "kernelspec": {
   "display_name": "base",
   "language": "python",
   "name": "python3"
  },
  "language_info": {
   "codemirror_mode": {
    "name": "ipython",
    "version": 3
   },
   "file_extension": ".py",
   "mimetype": "text/x-python",
   "name": "python",
   "nbconvert_exporter": "python",
   "pygments_lexer": "ipython3",
   "version": "3.9.13"
  }
 },
 "nbformat": 4,
 "nbformat_minor": 5
}
