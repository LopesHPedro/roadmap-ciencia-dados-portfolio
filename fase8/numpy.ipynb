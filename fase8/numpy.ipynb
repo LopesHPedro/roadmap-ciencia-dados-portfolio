{
 "cells": [
  {
   "cell_type": "markdown",
   "id": "f036e9dc",
   "metadata": {},
   "source": [
    "# **NumPy (Numerical Python)**\n",
    "\n",
    "Biblioteca fundamental para computação numérica em Python. O objeto principal é o __ndarray__ (n-dimensional array). \n",
    "\n",
    "## **Importação**"
   ]
  },
  {
   "cell_type": "code",
   "execution_count": 1,
   "id": "56228668",
   "metadata": {},
   "outputs": [
    {
     "name": "stdout",
     "output_type": "stream",
     "text": [
      "Numpy version: 1.21.5\n"
     ]
    }
   ],
   "source": [
    "import numpy as np\n",
    "print(f'Numpy version: {np.__version__}')"
   ]
  },
  {
   "cell_type": "markdown",
   "id": "1688e248",
   "metadata": {},
   "source": [
    "## **Criação de Arrays**\n",
    "### **A partir de listas Python**"
   ]
  },
  {
   "cell_type": "code",
   "execution_count": 2,
   "id": "8cd2d722",
   "metadata": {},
   "outputs": [
    {
     "name": "stdout",
     "output_type": "stream",
     "text": [
      "Array a partir de lista: [1 2 3 4 5]\n",
      "Tipo do array: int64\n",
      "\n",
      "Array de 2 dimensões:\n",
      "[[1 2 3]\n",
      " [4 5 6]]\n",
      "Formato do array de 2 dimensões: [[1 2 3]\n",
      " [4 5 6]]\n",
      "Número de dimensões:2\n"
     ]
    }
   ],
   "source": [
    "lista_py = [1, 2, 3, 4, 5]\n",
    "array_np = np.array(lista_py)\n",
    "print(f'Array a partir de lista: {array_np}')\n",
    "print((f'Tipo do array: {array_np.dtype}'))\n",
    "\n",
    "lista_2d = [[1, 2, 3], [4, 5, 6]]\n",
    "array_2d = np.array(lista_2d)\n",
    "print(f'\\nArray de 2 dimensões:\\n{array_2d}')\n",
    "print(f'Formato do array de 2 dimensões: {array_2d}') # (linhas, colunas)\n",
    "print(f'Número de dimensões:{array_2d.ndim}')"
   ]
  },
  {
   "cell_type": "markdown",
   "id": "37212a26",
   "metadata": {},
   "source": [
    "### **Arrays Especiais** "
   ]
  },
  {
   "cell_type": "code",
   "execution_count": 3,
   "id": "9ee3aa86",
   "metadata": {},
   "outputs": [
    {
     "name": "stdout",
     "output_type": "stream",
     "text": [
      "Array de Zeros:\n",
      "[[0. 0. 0.]\n",
      " [0. 0. 0.]]\n",
      "\n",
      "Array de Uns(inteiros):\n",
      "[[1 1]\n",
      " [1 1]\n",
      " [1 1]]\n",
      "\n",
      "Array Preenchido com 7.5:\n",
      "[[7.5 7.5 7.5 7.5]\n",
      " [7.5 7.5 7.5 7.5]]\n",
      "\n",
      "Matriz Identidade 3x3:\n",
      "[[1. 0. 0.]\n",
      " [0. 1. 0.]\n",
      " [0. 0. 1.]]\n"
     ]
    }
   ],
   "source": [
    "# Array de zeros\n",
    "zeros_array = np.zeros((2,3)) # Formato (2 linhas, 3 colunas)\n",
    "print(f'Array de Zeros:\\n{zeros_array}')\n",
    "\n",
    "# Array de uns\n",
    "ones_array = np.ones((3, 2), dtype=int)\n",
    "print(f'\\nArray de Uns(inteiros):\\n{ones_array}')\n",
    "\n",
    "# Array com um valor específico\n",
    "full_array = np.full((2, 4), 7.5)\n",
    "print(f'\\nArray Preenchido com 7.5:\\n{full_array}')\n",
    "\n",
    "# Array identidade (quadrado)\n",
    "identity_matrix = np.eye(3)\n",
    "print(f'\\nMatriz Identidade 3x3:\\n{identity_matrix}')"
   ]
  },
  {
   "cell_type": "code",
   "execution_count": 4,
   "id": "dfb398ea",
   "metadata": {},
   "outputs": [
    {
     "name": "stdout",
     "output_type": "stream",
     "text": [
      "Array com arange: [0 2 4 6 8]\n",
      "\n",
      "Array com linspace(0, 1, 5): [0.   0.25 0.5  0.75 1.  ]\n"
     ]
    }
   ],
   "source": [
    "# Array com sequência (similar a range)\n",
    "arange_array = np.arange(0, 10, 2) # Ínicio, Parada(exclusiva), Passo\n",
    "print(f'Array com arange: {arange_array}')\n",
    "\n",
    "# Array com valores espaçados linearmente\n",
    "linspace_array = np.linspace(0, 1, 5) # Ínicio, Parada(exclusiva), número de valores entre ínicio e fim(inclusive os dois) \n",
    "print(f'\\nArray com linspace(0, 1, 5): {linspace_array}')"
   ]
  },
  {
   "cell_type": "code",
   "execution_count": 5,
   "id": "500714b4",
   "metadata": {},
   "outputs": [
    {
     "name": "stdout",
     "output_type": "stream",
     "text": [
      "Array Aleatório [0, 1):\n",
      "[[0.36641347 0.47591372 0.77730209]\n",
      " [0.41402154 0.79633171 0.27002365]]\n",
      "\n",
      "Array Aleatório Normal Padrão:\n",
      "[[ 0.44673866  0.76403325]\n",
      " [-0.25797407 -0.04333989]\n",
      " [-0.18401905  1.12312023]]\n",
      "\n",
      "Array com inteiros aleatórios:\n",
      "[[16 43 52 63 42]\n",
      " [95  9 48 52 72]]\n"
     ]
    }
   ],
   "source": [
    "# Array aleatório [0, 1)\n",
    "random_array = np.random.rand(2, 3)\n",
    "print(f'Array Aleatório [0, 1):\\n{random_array}')\n",
    "\n",
    "# Array com valores aleatórios (distribuição normal padrão)\n",
    "randn_array = np.random.randn(3, 2)\n",
    "print(f'\\nArray Aleatório Normal Padrão:\\n{randn_array}')\n",
    "\n",
    "# Array com inteiros aleatórios\n",
    "randint_array = np.random.randint(1, 100, size=(2, 5)) # Formato \n",
    "print(f'\\nArray com inteiros aleatórios:\\n{randint_array}')"
   ]
  },
  {
   "cell_type": "markdown",
   "id": "5af1ad84",
   "metadata": {},
   "source": [
    "## **Indexação e Fatiamento(Slicing)**\n",
    "Similar a listas, mas com mais dimensões."
   ]
  },
  {
   "cell_type": "code",
   "execution_count": 6,
   "id": "bf8271e9",
   "metadata": {},
   "outputs": [
    {
     "name": "stdout",
     "output_type": "stream",
     "text": [
      "Array original: = [10 11 12 13 14 15 16 17 18 19]\n",
      "Primeiro elemento: 10\n",
      "Último elemento: 10\n",
      "Do índice 2 ao 5 (exclusivo): [12 13 14]\n",
      "Do ínico ao índice 4 (exclusivo): [10 11 12 13]\n",
      "Do índice 6 ao fim: [16 17 18 19]\n",
      "Com passo 2: [10 12 14 16 18]\n"
     ]
    }
   ],
   "source": [
    "number = np.arange(10, 20)\n",
    "print(f'Array original: = {number}')\n",
    "\n",
    "# Acessando elementos \n",
    "print(f'Primeiro elemento: {number[0]}')\n",
    "print(f'Último elemento: {number[0]}')\n",
    "\n",
    "# Fatiamento\n",
    "print(f'Do índice 2 ao 5 (exclusivo): {number[2:5]}')\n",
    "print(f'Do ínico ao índice 4 (exclusivo): {number[:4]}')\n",
    "print(f'Do índice 6 ao fim: {number[6:]}')\n",
    "print(f'Com passo 2: {number[::2]}')"
   ]
  },
  {
   "cell_type": "code",
   "execution_count": 7,
   "id": "a8929190",
   "metadata": {},
   "outputs": [
    {
     "name": "stdout",
     "output_type": "stream",
     "text": [
      "Arrray 2D Original:\n",
      "[[1 2 3]\n",
      " [4 5 6]\n",
      " [7 8 9]]\n",
      "Elemento numbers[1, 2]: 6\n",
      "Primeira linha numbers[0, :]: [1 2 3]\n",
      "Segunda coluna numbers[:, 1]:[2 5 8]\n"
     ]
    }
   ],
   "source": [
    "# Fatiamento em arrays de 2 dimensões\n",
    "numbers = np.array([[1, 2, 3], [4, 5, 6], [7, 8, 9]])\n",
    "print(f'Arrray 2D Original:\\n{numbers}')\n",
    "\n",
    "# Elemento linha 1, coluna 2\n",
    "print(f'Elemento numbers[1, 2]: {numbers[1, 2]}') # ou numbers[1][2]\n",
    "\n",
    "# Primeira linha inteira\n",
    "print(f'Primeira linha numbers[0, :]: {numbers[0, :]}') # ou numbers[0] \n",
    "\n",
    "# Segunda coluna inteira\n",
    "print(f'Segunda coluna numbers[:, 1]:{numbers[:, 1]}')"
   ]
  },
  {
   "cell_type": "code",
   "execution_count": 8,
   "id": "855fb3f2",
   "metadata": {},
   "outputs": [
    {
     "name": "stdout",
     "output_type": "stream",
     "text": [
      "Sub-array numbers[0:2, 1:3]:\n",
      "[[2 3]\n",
      " [5 6]]\n",
      "Sub-array modificado:\n",
      "[[99  3]\n",
      " [ 5  6]]\n",
      "Sub-array modificado APÓS modificar a fatia\n",
      "\n",
      "Cópia modificada:\n",
      "[[111   3]\n",
      " [  5   6]]\n",
      "Array numbers original NÃO foi afetado pela cópia:\n",
      "[[ 1 99  3]\n",
      " [ 4  5  6]\n",
      " [ 7  8  9]]\n"
     ]
    }
   ],
   "source": [
    "# Sub-array (linhas 0 e 1, colunas 1 e 2)\n",
    "sub_array = numbers[0:2, 1:3]\n",
    "print(f'Sub-array numbers[0:2, 1:3]:\\n{sub_array}')\n",
    "\n",
    "# IMPORTANTE: Fatias são \"views\" (visões) do array original.\n",
    "# Modificar a fatia modifica o original!\n",
    "sub_array[0, 0] = 99\n",
    "print(f'Sub-array modificado:\\n{sub_array}')\n",
    "print(f'Sub-array modificado APÓS modificar a fatia')\n",
    "\n",
    "# Para criar uma cópia independente, use .copy()\n",
    "sub_array_copy = numbers[0:2, 1:3].copy()\n",
    "sub_array_copy[0, 0] = 111\n",
    "print(f'\\nCópia modificada:\\n{sub_array_copy}')\n",
    "print(f'Array numbers original NÃO foi afetado pela cópia:\\n{numbers}')"
   ]
  },
  {
   "cell_type": "markdown",
   "id": "b0dc5a39",
   "metadata": {},
   "source": [
    "## **Indexação Booleana**:\n",
    "Selecionar elementos com base em condições."
   ]
  },
  {
   "cell_type": "code",
   "execution_count": 9,
   "id": "25469720",
   "metadata": {},
   "outputs": [
    {
     "name": "stdout",
     "output_type": "stream",
     "text": [
      "Dados aleatórios:\n",
      "[[-0.29066888 -0.63835371 -1.15128164]\n",
      " [-0.63610217  0.57242107  0.57688543]\n",
      " [ 1.16235966 -0.74810098  0.29250556]\n",
      " [-0.84693022 -0.38704709 -0.63492681]\n",
      " [-1.09420484  0.58241229  2.41109553]]\n",
      "\n",
      "Máscara booleana (data > 0):\n",
      "[[False False False]\n",
      " [False  True  True]\n",
      " [ True False  True]\n",
      " [False False False]\n",
      " [False  True  True]]\n",
      "\n",
      "Elementos maiores que 0: [0.57242107 0.57688543 1.16235966 0.29250556 0.58241229 2.41109553]\n",
      "\n",
      "Primeira coluna: [-0.29066888 -0.63610217  1.16235966 -0.84693022 -1.09420484]\n",
      "Elementos da col 0 > 0.5: [1.16235966]\n",
      "\n",
      "Linhas onde col 0 > 0:\n",
      "[[ 1.16235966 -0.74810098  0.29250556]]\n",
      "\n",
      "Linhas onde col 0 > 0 e col 1 < 0:\n",
      "[[ 1.16235966 -0.74810098  0.29250556]]\n"
     ]
    }
   ],
   "source": [
    "data = np.random.randn(5, 3)\n",
    "print(f'Dados aleatórios:\\n{data}')\n",
    "\n",
    "# Condição: elementos maiores que 0\n",
    "condition = data > 0\n",
    "print(f'\\nMáscara booleana (data > 0):\\n{condition}')\n",
    "\n",
    "# Selecionar elementos que atendem à condicão\n",
    "print(f'\\nElementos maiores que 0: {data[condition]}')\n",
    "\n",
    "# Combinar condições\n",
    "data_col0 = data [:, 0]\n",
    "print(f'\\nPrimeira coluna: {data_col0}')\n",
    "print(f'Elementos da col 0 > 0.5: {data_col0[data_col0 > 0.5]}')\n",
    "\n",
    "# Selecionar linhas onde a primeira coluna é > 0\n",
    "print(f'\\nLinhas onde col 0 > 0:\\n{data[data[:, 0] > 0]}')\n",
    "\n",
    "# Selecionar linhas onde col 0 > 0 E col 1 < 0\n",
    "linhas_selecionadas = data[(data[:,0] > 0) &  (data[:, 1 ] < 0)]\n",
    "print(f'\\nLinhas onde col 0 > 0 e col 1 < 0:\\n{linhas_selecionadas}')"
   ]
  },
  {
   "cell_type": "markdown",
   "id": "dc1407f5",
   "metadata": {},
   "source": [
    "## **Operações Matemáticas Vetorizadas**\n",
    "Operações elemento a elemento, muito mais rápidas que loops Python."
   ]
  },
  {
   "cell_type": "code",
   "execution_count": 10,
   "id": "91acb073",
   "metadata": {},
   "outputs": [
    {
     "name": "stdout",
     "output_type": "stream",
     "text": [
      "Array x:\n",
      "[[1 2]\n",
      " [3 4]]\n",
      "Array y:\n",
      "[[5 6]\n",
      " [7 8]]\n",
      "\n",
      "Soma (x + y):\n",
      "[[ 6  8]\n",
      " [10 12]]\n",
      "Soma (np.add(x, y)):\n",
      "[[ 6  8]\n",
      " [10 12]]\n",
      "\n",
      "Subtração (x - y):\n",
      "[[-4 -4]\n",
      " [-4 -4]]\n",
      "Subtração (np.subtract(x, y)):\n",
      "[[-4 -4]\n",
      " [-4 -4]]\n",
      "\n",
      "Multiplicação (x * y):\n",
      "[[ 5 12]\n",
      " [21 32]]\n",
      "\n",
      "Multiplicação (np.multiply(x, y)):\n",
      "[[ 5 12]\n",
      " [21 32]]\n"
     ]
    }
   ],
   "source": [
    "x = np.array([[1, 2], [3, 4]])\n",
    "y = np.array([[5, 6], [7, 8]])\n",
    "\n",
    "print(f'Array x:\\n{x}')\n",
    "print(f'Array y:\\n{y}')\n",
    "\n",
    "# Soma elemento a elemento\n",
    "print(f'\\nSoma (x + y):\\n{x + y}')\n",
    "print(f'Soma (np.add(x, y)):\\n{np.add(x, y)}')\n",
    "\n",
    "# Subtração elemento a elemento\n",
    "print(f'\\nSubtração (x - y):\\n{x - y}')\n",
    "print(f'Subtração (np.subtract(x, y)):\\n{np.subtract(x, y)}')\n",
    "\n",
    "# Multiplicação elemento a elemento\n",
    "print(f'\\nMultiplicação (x * y):\\n{x * y}')\n",
    "print(f'\\nMultiplicação (np.multiply(x, y)):\\n{np.multiply(x, y)}')"
   ]
  },
  {
   "cell_type": "code",
   "execution_count": 11,
   "id": "9b6cd0f5",
   "metadata": {},
   "outputs": [
    {
     "name": "stdout",
     "output_type": "stream",
     "text": [
      "Divisão (x / y):\n",
      "[[0.2        0.33333333]\n",
      " [0.42857143 0.5       ]]\n",
      "\n",
      "Divisão (np.divide(x, y)):\n",
      "[[0.2        0.33333333]\n",
      " [0.42857143 0.5       ]]\n",
      "\n",
      "Produto Escalar (x @ y ou x.dot(y)):\n",
      "[[19 22]\n",
      " [43 50]]\n",
      "Produto Escalar (np.dot(x, y)):\n",
      "[[19 22]\n",
      " [43 50]]\n",
      "\n",
      "Raiz Quadrada (np.sqrt(x)):\n",
      "[[1.         1.41421356]\n",
      " [1.73205081 2.        ]]\n",
      "Exponencial (np.exp(x)):\n",
      "[[ 2.71828183  7.3890561 ]\n",
      " [20.08553692 54.59815003]]\n"
     ]
    }
   ],
   "source": [
    "# Divisão elemento a elemento\n",
    "print(f'Divisão (x / y):\\n{x / y}')\n",
    "print(f'\\nDivisão (np.divide(x, y)):\\n{np.divide(x, y)}')\n",
    "\n",
    "# Multiplicação de Matrizes (produto escalar)\n",
    "print(f'\\nProduto Escalar (x @ y ou x.dot(y)):\\n{x @ y}')\n",
    "print(f'Produto Escalar (np.dot(x, y)):\\n{np.dot(x, y)}')\n",
    "\n",
    "# Raiz Quadradada\n",
    "print(f'\\nRaiz Quadrada (np.sqrt(x)):\\n{np.sqrt(x)}')\n",
    "\n",
    "# Exponencial (e^x)\n",
    "print(f'Exponencial (np.exp(x)):\\n{np.exp(x)}')\n"
   ]
  },
  {
   "cell_type": "markdown",
   "id": "77ce0b8a",
   "metadata": {},
   "source": [
    "## Funções Universais (unfuncs)\n",
    "Funções que operam elemento a elemento."
   ]
  },
  {
   "cell_type": "code",
   "execution_count": 12,
   "id": "7d3807d7",
   "metadata": {},
   "outputs": [
    {
     "name": "stdout",
     "output_type": "stream",
     "text": [
      "Array: [0 1 2 3 4]\n",
      "Quadrado: [ 0  1  4  9 16]\n",
      "Logartimo natural: [0.         0.69314718 1.09861229 1.38629436 1.60943791]\n",
      "Seno: [ 0.          0.84147098  0.90929743  0.14112001 -0.7568025 ]\n",
      "Máximo elemento a elemento: [4 5 6 8]\n"
     ]
    }
   ],
   "source": [
    "arr = np.arange(5)\n",
    "print(f'Array: {arr}')\n",
    "\n",
    "print(f'Quadrado: {np.square(arr)}')\n",
    "print(f'Logartimo natural: {np.log(arr + 1)}') # + 1 para evitar log(0)\n",
    "print(f'Seno: {np.sin(arr)}')\n",
    "\n",
    "# Funções binárias\n",
    "arr1 = np.array([1, 5, 2, 8])\n",
    "arr2 = np.array([4, 3, 6, 1])\n",
    "print(f'Máximo elemento a elemento: {np.maximum(arr1, arr2)}')"
   ]
  },
  {
   "cell_type": "markdown",
   "id": "4dd9c736",
   "metadata": {},
   "source": [
    "## Agregações (Reduções)\n",
    "Calcular estatísticas sobre o array"
   ]
  },
  {
   "cell_type": "code",
   "execution_count": 13,
   "id": "57aa75f8",
   "metadata": {},
   "outputs": [
    {
     "name": "stdout",
     "output_type": "stream",
     "text": [
      "Dados:\n",
      "[[-1.49458845  0.85386969  0.29878914]\n",
      " [ 2.43642762 -1.20418938 -0.80151072]\n",
      " [-0.87211932 -2.21778184 -0.41131895]\n",
      " [-0.0765408  -1.94686146 -1.0935453 ]]\n",
      "\n",
      "Soma total: -6.5293697693440755 ou -6.5293697693440755\n",
      "Média total: -0.5441141474453396 ou -0.5441141474453396 ou ainda -0.5441141474453396\n",
      "Soma por linha (axis=1): [-0.34192963  0.43072752 -3.50122011 -3.11694755]\n",
      "Média por coluna (axis=0): [-0.00170524 -1.12874075 -0.50189646]\n",
      "Desvio Padrão total: 1.2372150385075589\n",
      "Desvio Padrão por coluna (axis=0): [1.4946917  1.20330468 0.52180426]\n",
      "Valor mínimo: -2.217781841822748\n",
      "Valor máximo: 2.4364276161606573\n",
      "Índice do mínimo global(flattend): 7\n",
      "Índice do máximo global(flattend): 3\n",
      "Índice dos máximos por coluna: [1 0 0] \n"
     ]
    }
   ],
   "source": [
    "data = np.random.randn(4, 3)\n",
    "print(f'Dados:\\n{data}')\n",
    "\n",
    "# Soma de todos os elementos\n",
    "print(f'\\nSoma total: {data.sum()} ou {np.sum(data)}')\n",
    "\n",
    "# Média de todos os elementos\n",
    "print(f'Média total: {data.mean()} ou {np.mean(data)} ou ainda {data.sum()/data.size}')\n",
    "\n",
    "# Soma ao longo das colunas (resultado por linha)\n",
    "print(f'Soma por linha (axis=1): {data.sum(axis=1)}')\n",
    "\n",
    "# Média ao longo das linhas (resultado por coluna)\n",
    "print(f'Média por coluna (axis=0): {data.mean(axis=0)}')\n",
    "\n",
    "# Desvio Padrão\n",
    "print(f'Desvio Padrão total: {data.std()}')\n",
    "print(f'Desvio Padrão por coluna (axis=0): {data.std(axis=0)}')\n",
    "\n",
    "# Mínimo e Máximo\n",
    "print(f'Valor mínimo: {data.min()}')\n",
    "print(f'Valor máximo: {data.max()}')\n",
    "\n",
    "# Índice do Mínimo e Máximo\n",
    "print(f'Índice do mínimo global(flattend): {data.argmin()}')\n",
    "print(f'Índice do máximo global(flattend): {data.argmax()}')\n",
    "print(f'Índice dos máximos por coluna: {data.argmax(axis=0)} ')"
   ]
  },
  {
   "cell_type": "markdown",
   "id": "dd12ef98",
   "metadata": {},
   "source": [
    "## Broadcasting\n",
    "Regras que permitem operações entre arrays de shapes diferentes"
   ]
  },
  {
   "cell_type": "code",
   "execution_count": 14,
   "id": "ecb4e36a",
   "metadata": {},
   "outputs": [
    {
     "name": "stdout",
     "output_type": "stream",
     "text": [
      "Array a (3x3):\n",
      "[[1 2 3]\n",
      " [4 5 6]\n",
      " [7 8 9]]\n",
      "Array b (3,):\n",
      "[10 20 30]\n",
      "\n",
      "Soma a + b (broadcasting):\n",
      "[[11 22 33]\n",
      " [14 25 36]\n",
      " [17 28 39]]\n",
      "\n",
      "Soma a + 100:\n",
      "[[101 102 103]\n",
      " [104 105 106]\n",
      " [107 108 109]]\n",
      "\n",
      "Array c (3x1)\n",
      "[[10]\n",
      " [20]\n",
      " [30]]\n",
      "\n",
      "Soma de a + c (broadcasting):\n",
      "[[11 12 13]\n",
      " [24 25 26]\n",
      " [37 38 39]]\n"
     ]
    }
   ],
   "source": [
    "a = np.array([[1, 2, 3], [4, 5, 6], [7, 8, 9]])\n",
    "b = np.array([10, 20, 30]) # Formato (3, )\n",
    "\n",
    "print(f'Array a (3x3):\\n{a}')\n",
    "print(f'Array b (3,):\\n{b}')\n",
    "\n",
    "# Somar b a cada linha de a\n",
    "# b é \"expandido\" (broadcasted) para [[10, 20, 30], [10, 20, 30], [10, 20, 30]]\n",
    "print(f'\\nSoma a + b (broadcasting):\\n{a + b}')\n",
    "\n",
    "# Somar um escalar\n",
    "print(f'\\nSoma a + 100:\\n{a + 100}')\n",
    "\n",
    "c = np.array([[10], [20], [30]]) # Shape (3, 1)\n",
    "print(f'\\nArray c (3x1)\\n{c}')\n",
    "\n",
    "# Somar c a coluna de a \n",
    "# c é \"expandido\" para [[10, 10, 10], [20, 20, 20], [30, 30, 30]]\n",
    "print(f'\\nSoma de a + c (broadcasting):\\n{a + c}')"
   ]
  },
  {
   "cell_type": "markdown",
   "id": "40be0145",
   "metadata": {},
   "source": [
    "## Álgebra Linear\n",
    "Funções comuns"
   ]
  },
  {
   "cell_type": "code",
   "execution_count": 15,
   "id": "caf1edbd",
   "metadata": {},
   "outputs": [
    {
     "name": "stdout",
     "output_type": "stream",
     "text": [
      "Matriz A:\n",
      "[[1 2]\n",
      " [3 4]]\n",
      "Vetor B:\n",
      "[[5]\n",
      " [6]]\n",
      "\n",
      "Transposta de A:\n",
      "[[1 3]\n",
      " [2 4]]\n",
      "Transposta de B:\n",
      "[[5 6]]\n",
      "\n",
      "Inversa de A:\n",
      "[[-2.   1. ]\n",
      " [ 1.5 -0.5]]\n",
      "Verificação A @ A_inv:\n",
      "[[1. 0.]\n",
      " [0. 1.]]\n",
      "\n",
      "Determinante de A: -2.0000000000000004\n",
      "\n",
      "Solução do sistema Ax=B:\n",
      "[[-4. ]\n",
      " [ 4.5]]\n",
      "Verificação A @ x_sol:\n",
      "[[5.]\n",
      " [6.]]\n",
      "\n",
      "Autovalores de A: [-0.37228132  5.37228132]\n"
     ]
    }
   ],
   "source": [
    "A = np.array([[1, 2], [3, 4]])\n",
    "B = np.array([[5], [6]])\n",
    "\n",
    "print(f'Matriz A:\\n{A}')\n",
    "print(f'Vetor B:\\n{B}')\n",
    "\n",
    "# Transposta\n",
    "print(f'\\nTransposta de A:\\n{A.T}')\n",
    "print(f'Transposta de B:\\n{B.T}')\n",
    "\n",
    "# Inversa (apenas para matrizes quadradas invertíveis)\n",
    "try:\n",
    "    A_inv = np.linalg.inv(A)\n",
    "    print(f'\\nInversa de A:\\n{A_inv}')\n",
    "    # Verificação: A @ A_inv deve ser a identidade\n",
    "    print(f'Verificação A @ A_inv:\\n{np.round(A @ A_inv)}')\n",
    "except np.linalg.LinAlgError:\n",
    "    print('\\nA não é invertível.')\n",
    "\n",
    "# Determinante\n",
    "print(f'\\nDeterminante de A: {np.linalg.det(A)}')\n",
    "\n",
    "# Resolver sistema linear Ax = B => x = A_inv @ B\n",
    "try:\n",
    "    x_sol = np.linalg.solve(A,B)\n",
    "    print(f'\\nSolução do sistema Ax=B:\\n{x_sol}')\n",
    "    # Verificação: A @ x_sol deve ser igual a B\n",
    "    print(f'Verificação A @ x_sol:\\n{A @ x_sol}')\n",
    "except np.linalg.LinAlgError:\n",
    "    print('\\nNão foi possível resolver o sistema.')\n",
    "\n",
    "# Autovalores e Autovetores\n",
    "eigenvalues, eigenvectors = np.linalg.eig(A)\n",
    "print(f'\\nAutovalores de A: {eigenvalues}')"
   ]
  },
  {
   "cell_type": "markdown",
   "id": "4e18a497",
   "metadata": {},
   "source": [
    "### 🖇️ Links úteis/Referências\n",
    "- 👉 [Documentação Principal](https://numpy.org/doc/stable/) \n",
    "- 👉 [Arrays (ndarray)](https://numpy.org/doc/stable/reference/arrays.ndarray.html) \n",
    "- 👉 [Operações Matemáticas](https://numpy.org/doc/stable/reference/routines.math.html) \n",
    "- 👉 [Indexação e Fatiamento](https://numpy.org/doc/stable/user/basics.indexing.html)"
   ]
  }
 ],
 "metadata": {
  "kernelspec": {
   "display_name": "base",
   "language": "python",
   "name": "python3"
  },
  "language_info": {
   "codemirror_mode": {
    "name": "ipython",
    "version": 3
   },
   "file_extension": ".py",
   "mimetype": "text/x-python",
   "name": "python",
   "nbconvert_exporter": "python",
   "pygments_lexer": "ipython3",
   "version": "3.9.13"
  }
 },
 "nbformat": 4,
 "nbformat_minor": 5
}
